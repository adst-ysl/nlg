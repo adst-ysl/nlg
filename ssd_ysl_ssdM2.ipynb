{
  "nbformat": 4,
  "nbformat_minor": 0,
  "metadata": {
    "colab": {
      "name": "ssd_ysl_ssdM2.ipynb",
      "provenance": [],
      "collapsed_sections": []
    },
    "kernelspec": {
      "name": "python3",
      "display_name": "Python 3"
    },
    "accelerator": "GPU"
  },
  "cells": [
    {
      "cell_type": "markdown",
      "metadata": {
        "id": "EjB9UB4Qf8Yq",
        "colab_type": "text"
      },
      "source": [
        "## start"
      ]
    },
    {
      "cell_type": "code",
      "metadata": {
        "id": "aN3pPGzdQesl",
        "colab_type": "code",
        "outputId": "4acbbb34-02a4-4119-92e8-612266251ec5",
        "colab": {
          "base_uri": "https://localhost:8080/",
          "height": 125
        }
      },
      "source": [
        "from google.colab import files\n",
        "from google.colab import drive\n",
        "drive.mount('/content/mount')\n",
        "\n",
        "DRIVE_WORKSPACE = '/content/mount/My\\ Drive/00_work/00_src_models'"
      ],
      "execution_count": 1,
      "outputs": [
        {
          "output_type": "stream",
          "text": [
            "Go to this URL in a browser: https://accounts.google.com/o/oauth2/auth?client_id=947318989803-6bn6qk8qdgf4n4g3pfee6491hc0brc4i.apps.googleusercontent.com&redirect_uri=urn%3aietf%3awg%3aoauth%3a2.0%3aoob&response_type=code&scope=email%20https%3a%2f%2fwww.googleapis.com%2fauth%2fdocs.test%20https%3a%2f%2fwww.googleapis.com%2fauth%2fdrive%20https%3a%2f%2fwww.googleapis.com%2fauth%2fdrive.photos.readonly%20https%3a%2f%2fwww.googleapis.com%2fauth%2fpeopleapi.readonly\n",
            "\n",
            "Enter your authorization code:\n",
            "··········\n",
            "Mounted at /content/mount\n"
          ],
          "name": "stdout"
        }
      ]
    },
    {
      "cell_type": "code",
      "metadata": {
        "id": "sjS4KQO77ueo",
        "colab_type": "code",
        "outputId": "239a2599-d9f4-425d-ae45-e4fb67f09bf3",
        "colab": {
          "base_uri": "https://localhost:8080/",
          "height": 34
        }
      },
      "source": [
        "import tensorflow as tf\n",
        "tf.test.gpu_device_name()"
      ],
      "execution_count": 0,
      "outputs": [
        {
          "output_type": "execute_result",
          "data": {
            "text/plain": [
              "'/device:GPU:0'"
            ]
          },
          "metadata": {
            "tags": []
          },
          "execution_count": 2
        }
      ]
    },
    {
      "cell_type": "code",
      "metadata": {
        "id": "6Hr2ZGoSejuU",
        "colab_type": "code",
        "colab": {}
      },
      "source": [
        "!wget -O protobuf.zip https://github.com/google/protobuf/releases/download/v3.0.0/protoc-3.0.0-linux-x86_64.zip\n",
        "!unzip protobuf.zip"
      ],
      "execution_count": 0,
      "outputs": []
    },
    {
      "cell_type": "code",
      "metadata": {
        "id": "rlfDLBZWenY9",
        "colab_type": "code",
        "colab": {}
      },
      "source": [
        "!protoc object_detection/protos/*.proto --python_out=."
      ],
      "execution_count": 0,
      "outputs": []
    },
    {
      "cell_type": "code",
      "metadata": {
        "id": "Y0Bv-rKASeWy",
        "colab_type": "code",
        "outputId": "db9095cc-94fb-4cf2-92c2-dc5dcaa0a4ae",
        "colab": {
          "base_uri": "https://localhost:8080/",
          "height": 34
        }
      },
      "source": [
        "!cat /proc/driver/nvidia/gpus/0000:00:04.0/information"
      ],
      "execution_count": 2,
      "outputs": [
        {
          "output_type": "stream",
          "text": [
            "cat: '/proc/driver/nvidia/gpus/0000:00:04.0/information': No such file or directory\n"
          ],
          "name": "stdout"
        }
      ]
    },
    {
      "cell_type": "markdown",
      "metadata": {
        "id": "T9TjQgB9ShT8",
        "colab_type": "text"
      },
      "source": [
        "### Dependencies"
      ]
    },
    {
      "cell_type": "code",
      "metadata": {
        "id": "cA0PBfEcSs_4",
        "colab_type": "code",
        "colab": {}
      },
      "source": [
        "!python 'object_detection/builders/model_builder_test.py'"
      ],
      "execution_count": 0,
      "outputs": []
    },
    {
      "cell_type": "markdown",
      "metadata": {
        "id": "IXnD-CakfOkD",
        "colab_type": "text"
      },
      "source": [
        "### Load model"
      ]
    },
    {
      "cell_type": "code",
      "metadata": {
        "id": "EAE2bdcafN-0",
        "colab_type": "code",
        "colab": {}
      },
      "source": [
        "DRIVE_WORKSPACE = '/content/mount/My\\ Drive/00.work'\n",
        "SRC_PATH=DRIVE_WORKSPACE+'/content/mount/My\\ Drive/00.work/00_src_models/research'\n",
        "%cd {SRC_PATH}\n",
        "!pwd\n",
        "DEST_DIR = CUR_DIR + '/' + 'pretrained_model'\n",
        "LATEST_CHECKPOINT = '/content/mount/My\\ Drive/DogCatDetection/last_checkpoint'"
      ],
      "execution_count": 0,
      "outputs": []
    },
    {
      "cell_type": "code",
      "metadata": {
        "id": "wLmRALAypgU0",
        "colab_type": "code",
        "colab": {}
      },
      "source": [
        "!ls {LATEST_CHECKPOINT}"
      ],
      "execution_count": 0,
      "outputs": []
    },
    {
      "cell_type": "code",
      "metadata": {
        "id": "TKWMdSzljB08",
        "colab_type": "code",
        "colab": {}
      },
      "source": [
        "if (os.path.exists(DEST_DIR)):\n",
        "    shutil.rmtree(DEST_DIR)\n",
        "    \n",
        "!mkdir {DEST_DIR} && cp -a {LATEST_CHECKPOINT}/. {DEST_DIR}"
      ],
      "execution_count": 0,
      "outputs": []
    },
    {
      "cell_type": "markdown",
      "metadata": {
        "id": "ds_OIKqfSwWt",
        "colab_type": "text"
      },
      "source": [
        "### Data Preparation"
      ]
    },
    {
      "cell_type": "code",
      "metadata": {
        "id": "WN1IY_qEekU9",
        "colab_type": "code",
        "colab": {}
      },
      "source": [
        "import tensorflow as tf\n",
        "\n",
        "PATH_TO_LABELS = '/content/mount/My Drive/00.work/00_src_models/research/01_configfile/pascal_label_map_sphygmomanometer.pbtxt'\n",
        "\n",
        "detection_graph = tf.Graph()\n",
        "with detection_graph.as_default():\n",
        "    with tf.gfile.GFile(PATH_TO_LABELS) as fid:\n",
        "        label_map_string = fid.read()\n",
        "    \n",
        "    with tf.gfile.GFile(PATH_TO_LABELS, 'w') as fid: # protobuf text format under created /modelInference/ folder        \n",
        "        print(label_map_string)\n",
        "        # fid.write(label_map_string)"
      ],
      "execution_count": 0,
      "outputs": []
    },
    {
      "cell_type": "code",
      "metadata": {
        "id": "MfctAn7dS0ER",
        "colab_type": "code",
        "colab": {}
      },
      "source": [
        "DATA_PATH = '/content/mount/My\\ Drive/00.work/finetune_data'\n",
        "!ls {DATA_PATH}"
      ],
      "execution_count": 0,
      "outputs": []
    },
    {
      "cell_type": "code",
      "metadata": {
        "id": "FGOrIkNESxO5",
        "colab_type": "code",
        "colab": {}
      },
      "source": [
        "!cp {DATA_PATH}/annotations.tar.gz ./\n",
        "!cp {DATA_PATH}/images.tar.gz ./\n",
        "!tar -xvf annotations.tar.gz\n",
        "!tar -xvf images.tar.gz"
      ],
      "execution_count": 0,
      "outputs": []
    },
    {
      "cell_type": "code",
      "metadata": {
        "id": "ya-WbcQpTUMK",
        "colab_type": "code",
        "colab": {}
      },
      "source": [
        "#train data\n",
        "PATH_TO_LABELS = '/content/mount/My\\ Drive/00.work/00_src_models/research/01_configfile/pascal_label_map_sphygmomanometer.pbtxt'\n",
        "!python object_detection/dataset_tools/create_pascal_tf_record.py \\\n",
        "    --label_map_path={PATH_TO_LABELS}  \\\n",
        "    --data_dir='/content/mount/My Drive/00.work/finetune_data' --year=VOC2019 --set=train \\\n",
        "    --output_path='/content/mount/My Drive/00.work/finetune_data/pascal_train_sphygmomanometer.record'"
      ],
      "execution_count": 0,
      "outputs": []
    },
    {
      "cell_type": "code",
      "metadata": {
        "id": "R5qouTHU5MRh",
        "colab_type": "code",
        "colab": {}
      },
      "source": [
        "#valuation data\n",
        "PATH_TO_LABELS = '/content/mount/My\\ Drive/00.work/00_src_models/research/01_configfile/pascal_label_map_sphygmomanometer.pbtxt'\n",
        "!python object_detection/dataset_tools/create_pascal_tf_record.py \\\n",
        "    --label_map_path={PATH_TO_LABELS}  \\\n",
        "    --data_dir='/content/mount/My Drive/00.work/finetune_data' --year=VOC2019 --set=val \\\n",
        "    --output_path='/content/mount/My Drive/00.work/finetune_data/pascal_val_sphygmomanometer.record'"
      ],
      "execution_count": 0,
      "outputs": []
    },
    {
      "cell_type": "markdown",
      "metadata": {
        "id": "JlS_gXKh5aiy",
        "colab_type": "text"
      },
      "source": [
        "## Pipeline"
      ]
    },
    {
      "cell_type": "code",
      "metadata": {
        "id": "7djUl1S56EIC",
        "colab_type": "code",
        "colab": {}
      },
      "source": [
        "import tensorflow as tf\n",
        "from object_detection.utils import label_map_util\n",
        "import re\n",
        "\n",
        "%matplotlib inline"
      ],
      "execution_count": 0,
      "outputs": []
    },
    {
      "cell_type": "code",
      "metadata": {
        "id": "hOp5g-LYTp1y",
        "colab_type": "code",
        "colab": {}
      },
      "source": [
        "test_record_fname = '/content/Finetune_SSD_MobileNetV2/models/research/pet_faces_train.record-?????-of-00010'\n",
        "train_record_fname = '/content/Finetune_SSD_MobileNetV2/models/research//pet_faces_val.record-?????-of-00010'\n",
        "label_map_pbtxt_fname = '/content/Finetune_SSD_MobileNetV2/models/research/object_detection/data/pet_label_map.pbtxt'"
      ],
      "execution_count": 0,
      "outputs": []
    },
    {
      "cell_type": "code",
      "metadata": {
        "id": "V7aWd5Id5lSO",
        "colab_type": "code",
        "outputId": "13f024ea-116a-4d38-945f-f1b6217d6d1a",
        "colab": {
          "base_uri": "https://localhost:8080/",
          "height": 35
        }
      },
      "source": [
        "fine_tune_checkpoint = os.path.join(DEST_DIR, \"model.ckpt\")\n",
        "fine_tune_checkpoint"
      ],
      "execution_count": 0,
      "outputs": [
        {
          "output_type": "execute_result",
          "data": {
            "text/plain": [
              "'/content/Finetune_SSD_MobileNetV2/models/research/pretrained_model/model.ckpt'"
            ]
          },
          "metadata": {
            "tags": []
          },
          "execution_count": 94
        }
      ]
    },
    {
      "cell_type": "code",
      "metadata": {
        "id": "xJwFsHq25zzA",
        "colab_type": "code",
        "outputId": "1a544be3-9ee8-4b2d-f9a1-30e054aecc85",
        "colab": {
          "base_uri": "https://localhost:8080/",
          "height": 35
        }
      },
      "source": [
        "pipeline_fname = os.path.join('/content/Finetune_SSD_MobileNetV2/models/research/pretrained_model/', 'pipeline.config')\n",
        "pipeline_fname"
      ],
      "execution_count": 0,
      "outputs": [
        {
          "output_type": "execute_result",
          "data": {
            "text/plain": [
              "'/content/Finetune_SSD_MobileNetV2/models/research/pretrained_model/pipeline.config'"
            ]
          },
          "metadata": {
            "tags": []
          },
          "execution_count": 95
        }
      ]
    },
    {
      "cell_type": "code",
      "metadata": {
        "id": "3mI2__sB5rwc",
        "colab_type": "code",
        "colab": {}
      },
      "source": [
        "def get_num_classes(pbtxt_fname):\n",
        "    label_map = label_map_util.load_labelmap(pbtxt_fname)\n",
        "    categories = label_map_util.convert_label_map_to_categories(\n",
        "        label_map, max_num_classes=90, use_display_name=True)\n",
        "    category_index = label_map_util.create_category_index(categories)\n",
        "    return len(category_index.keys())"
      ],
      "execution_count": 0,
      "outputs": []
    },
    {
      "cell_type": "code",
      "metadata": {
        "id": "buSaJmyz54Q7",
        "colab_type": "code",
        "colab": {}
      },
      "source": [
        "num_classes = get_num_classes(label_map_pbtxt_fname)\n",
        "metric_eval = 'oid_V2_detection_metrics'\n",
        "batch_size = 64\n",
        "num_steps = 1000\n",
        "use_checkpoint = 'true'\n",
        "init_lr = 1e-6\n",
        "decay_steps = 10000\n",
        "load_detect_ckpt = 'true'\n",
        "optimizer = 'adam_optimizer'\n",
        "\n",
        "with open(pipeline_fname) as f:\n",
        "    s = f.read()\n",
        "with open(pipeline_fname, 'w') as f:\n",
        "    # fine_tune_checkpoint\n",
        "    s = re.sub('fine_tune_checkpoint: \".*?\"',\n",
        "               'fine_tune_checkpoint: \"{}\"'.format(fine_tune_checkpoint), s)\n",
        "    s = re.sub('from_detection_checkpoint: \"[a-z]+\"',\n",
        "               'from_detection_checkpoint: {}'.format(use_checkpoint), s)\n",
        "    s = re.sub('load_all_detection_checkpoint_vars: \"[a-z]+\"',\n",
        "               'load_all_detection_checkpoint_vars: {}'.format(load_detect_ckpt), s)\n",
        "    \n",
        "    # tfrecord files train and test.\n",
        "    s = re.sub(\n",
        "        '(input_path: \".*?)(train.record)(.*?\")', 'input_path: \"{}\"'.format(train_record_fname), s)\n",
        "    s = re.sub(\n",
        "        '(input_path: \".*?)(val.record)(.*?\")', 'input_path: \"{}\"'.format(test_record_fname), s)\n",
        "\n",
        "    # label_map_path\n",
        "    s = re.sub(\n",
        "        'label_map_path: \".*?\"', 'label_map_path: \"{}\"'.format(label_map_pbtxt_fname), s)\n",
        "\n",
        "    # Set training batch_size.\n",
        "    s = re.sub('batch_size: [0-9]+',\n",
        "               'batch_size: {}'.format(batch_size), s)\n",
        "\n",
        "    # Set training steps, num_steps\n",
        "    s = re.sub('num_steps: [0-9]+',\n",
        "               'num_steps: {}'.format(num_steps), s)\n",
        "    \n",
        "    # Set number of classes num_classes.\n",
        "    s = re.sub('num_classes: [0-9]+',\n",
        "               'num_classes: {}'.format(num_classes), s)\n",
        "    \n",
        "    # Set metric of evaluation\n",
        "    s = re.sub(\n",
        "        'metrics_set: \".*?\"', \n",
        "        'metrics_set: \"{}\"'.format(metric_eval), s)\n",
        "    \n",
        "    # Set initial learning rate & weight decays\n",
        "    s = re.sub('initial_learning_rate: [0-9]+[\\.][0-9]+[e][-][0-9]+',\n",
        "               'initial_learning_rate: {}'.format(init_lr), s)\n",
        "    s = re.sub('decay_steps: [0-9]+',\n",
        "               'decay_steps: {}'.format(decay_steps), s)\n",
        "    \n",
        "    # Change optimizer to Adam\n",
        "    s = re.sub('rms_prop_optimizer',\n",
        "           '{}'.format(optimizer), s)\n",
        "    \n",
        "    s = re.sub('momentum_optimizer_value: 0.8999999761581421', '', s)\n",
        "    s = re.sub('decay: 0.8999999761581421', '', s)\n",
        "    s = re.sub('epsilon: 1.0', '', s)\n",
        "    \n",
        "    f.write(s)"
      ],
      "execution_count": 0,
      "outputs": []
    },
    {
      "cell_type": "code",
      "metadata": {
        "id": "0JtoNj2r58_N",
        "colab_type": "code",
        "colab": {}
      },
      "source": [
        "!cat {pipeline_fname}"
      ],
      "execution_count": 0,
      "outputs": []
    },
    {
      "cell_type": "code",
      "metadata": {
        "id": "5grrwYcc7k0d",
        "colab_type": "code",
        "colab": {}
      },
      "source": [
        "MODEL_DIR = DEST_DIR + '/' + 'training'\n",
        "# Optionally remove content in output model directory to fresh start.\n",
        "!rm -rf {MODEL_DIR}\n",
        "os.makedirs(MODEL_DIR, exist_ok=True)\n",
        "\n",
        "get_ipython().system_raw('./ngrok http 6006 &')"
      ],
      "execution_count": 0,
      "outputs": []
    },
    {
      "cell_type": "code",
      "metadata": {
        "id": "ENePbjjZ7x04",
        "colab_type": "code",
        "colab": {}
      },
      "source": [
        "!wget https://bin.equinox.io/c/4VmDzA7iaHb/ngrok-stable-linux-amd64.zip\n",
        "!unzip -o ngrok-stable-linux-amd64.zip"
      ],
      "execution_count": 0,
      "outputs": []
    },
    {
      "cell_type": "code",
      "metadata": {
        "id": "tTUdSLi_7103",
        "colab_type": "code",
        "colab": {}
      },
      "source": [
        "LOG_DIR = MODEL_DIR\n",
        "get_ipython().system_raw(\n",
        "    'tensorboard --logdir {} --host 0.0.0.0 --port 6006 &'\n",
        "    .format(LOG_DIR)\n",
        ")"
      ],
      "execution_count": 0,
      "outputs": []
    },
    {
      "cell_type": "code",
      "metadata": {
        "id": "KOzx7yL173JN",
        "colab_type": "code",
        "outputId": "834dcf0d-2e7a-47a2-8ea6-c764a4a22ed6",
        "colab": {
          "base_uri": "https://localhost:8080/",
          "height": 35
        }
      },
      "source": [
        "!curl -s http://localhost:4040/api/tunnels | python3 -c \\\n",
        "    \"import sys, json; print(json.load(sys.stdin)['tunnels'][0]['public_url'])\""
      ],
      "execution_count": 0,
      "outputs": [
        {
          "output_type": "stream",
          "text": [
            "https://416565a6.ngrok.io\n"
          ],
          "name": "stdout"
        }
      ]
    },
    {
      "cell_type": "code",
      "metadata": {
        "id": "itGN9VvF74ae",
        "colab_type": "code",
        "colab": {}
      },
      "source": [
        "!ls {LOG_DIR}"
      ],
      "execution_count": 0,
      "outputs": []
    },
    {
      "cell_type": "code",
      "metadata": {
        "id": "Tnq9Gzjg1jPn",
        "colab_type": "code",
        "colab": {}
      },
      "source": [
        "!pip install -q pycocotools"
      ],
      "execution_count": 0,
      "outputs": []
    },
    {
      "cell_type": "code",
      "metadata": {
        "id": "RTZ7yxDOIx7z",
        "colab_type": "code",
        "colab": {}
      },
      "source": [
        "!pip install albumentations\n",
        "!pip install pascal_voc_writer"
      ],
      "execution_count": 0,
      "outputs": []
    },
    {
      "cell_type": "code",
      "metadata": {
        "id": "AX9HpQTNcjti",
        "colab_type": "code",
        "colab": {
          "base_uri": "https://localhost:8080/",
          "height": 158
        },
        "outputId": "9b3189bd-5555-45c3-bc34-509b079e09e2"
      },
      "source": [
        "!git clone  https://github.com/yuslzq/sys_oper.git"
      ],
      "execution_count": 4,
      "outputs": [
        {
          "output_type": "stream",
          "text": [
            "Cloning into 'sys_oper'...\n",
            "remote: Enumerating objects: 8, done.\u001b[K\n",
            "remote: Counting objects: 100% (8/8), done.\u001b[K\n",
            "remote: Compressing objects: 100% (6/6), done.\u001b[K\n",
            "remote: Total 2590 (delta 2), reused 6 (delta 2), pack-reused 2582\u001b[K\n",
            "Receiving objects: 100% (2590/2590), 128.75 MiB | 12.67 MiB/s, done.\n",
            "Resolving deltas: 100% (512/512), done.\n",
            "Checking out files: 100% (2495/2495), done.\n"
          ],
          "name": "stdout"
        }
      ]
    },
    {
      "cell_type": "code",
      "metadata": {
        "id": "odCcto8ZufF0",
        "colab_type": "code",
        "colab": {}
      },
      "source": [
        "%cd /content/sys_oper\n",
        "!git pull"
      ],
      "execution_count": 0,
      "outputs": []
    },
    {
      "cell_type": "code",
      "metadata": {
        "id": "5drviiBcukB7",
        "colab_type": "code",
        "colab": {}
      },
      "source": [
        "!git clone https://github.com/yuslzq/00_src_models.git"
      ],
      "execution_count": 0,
      "outputs": []
    },
    {
      "cell_type": "markdown",
      "metadata": {
        "id": "0cmFNqBwDUrN",
        "colab_type": "text"
      },
      "source": [
        "```\n",
        "!git clone https://github.com/google-research/tf-slim\n",
        "!mkdir /content/sys_oper/00_src2/research/tf_slim\n",
        "!cp -r tf-slim/tf_slim/* /content/sys_oper/00_src2/research/tf_slim/\n",
        "!pip install tf_slim\n",
        "!tf_upgrade_v2 \\\n",
        "  --intree sys_oper/00_src/ \\\n",
        "  --outtree sys_oper/00_src2/ \\\n",
        "  --reportfile report.txt\n",
        "```\n",
        "\n"
      ]
    },
    {
      "cell_type": "code",
      "metadata": {
        "id": "r1FBjyCZwyZN",
        "colab_type": "code",
        "colab": {}
      },
      "source": [
        "!pip list"
      ],
      "execution_count": 0,
      "outputs": []
    },
    {
      "cell_type": "markdown",
      "metadata": {
        "id": "f1hUmiOHoFST",
        "colab_type": "text"
      },
      "source": [
        "```\n",
        "tf2.0\n",
        "!wget https://developer.nvidia.com/compute/cuda/9.2/Prod2/local_installers/cuda-repo-ubuntu1710-9-2-local_9.2.148-1_amd64\n",
        "!dpkg -i cuda-repo-ubuntu1710-9-2-local_9.2.148-1_amd64\n",
        "# You can use this line to find out the directory name\n",
        "# !ls /var/ | grep cuda-repo\n",
        "!apt-key add /var/cuda-repo-9-2-local/7fa2af80.pub\n",
        "!apt-get update\n",
        "!apt-get install cuda\n",
        "****\n",
        "tf 1.3\n",
        "!wget https://developer.nvidia.com/compute/cuda/9.0/Prod/local_installers/cuda-repo-ubuntu1604-9-0-local_9.0.176-1_amd64-deb\n",
        "!dpkg -i cuda-repo-ubuntu1604-9-0-local_9.0.176-1_amd64-deb\n",
        "!apt-key add /var/cuda-repo-9-0-local/7fa2af80.pub\n",
        "!apt-get update\n",
        "!apt-get install cuda=9.0.176-1\n",
        "```\n",
        "\n"
      ]
    },
    {
      "cell_type": "code",
      "metadata": {
        "id": "vyQvf2Qopk2W",
        "colab_type": "code",
        "colab": {}
      },
      "source": [
        "import os\n",
        "print(os.environ['PYTHONPATH'] )"
      ],
      "execution_count": 0,
      "outputs": []
    },
    {
      "cell_type": "code",
      "metadata": {
        "id": "vBAejUbf7gyH",
        "colab_type": "code",
        "colab": {
          "base_uri": "https://localhost:8080/",
          "height": 34
        },
        "outputId": "150d8173-6c66-47ed-abe6-51c038e48938"
      },
      "source": [
        "!pip install numpy==1.17.4"
      ],
      "execution_count": 1,
      "outputs": [
        {
          "output_type": "stream",
          "text": [
            "Requirement already satisfied: numpy==1.17.4 in /usr/local/lib/python3.6/dist-packages (1.17.4)\n"
          ],
          "name": "stdout"
        }
      ]
    },
    {
      "cell_type": "markdown",
      "metadata": {
        "id": "kbKr8w5j8YVB",
        "colab_type": "text"
      },
      "source": [
        "## Training"
      ]
    },
    {
      "cell_type": "code",
      "metadata": {
        "id": "iWnoDgK38113",
        "colab_type": "code",
        "colab": {}
      },
      "source": [
        "\n",
        "!pip install tensorflow==1.15.0\n",
        "!pip install tensorflow-gpu==1.15.0\n",
        "!pip install numpy==1.17.4\n",
        "!apt-get install -qq protobuf-compiler python-pil python-lxml python-tk\n",
        "!pip install -q Cython contextlib2 pillow lxml matplotlib\n",
        "!pip install -q pycocotools\n",
        "!pip  uninstall tensorboard\n",
        "!git clone  https://github.com/yuslzq/sys_oper.git\n",
        "\n",
        "NUM_TRAIN_STEPS = 1000000\n",
        "SAMPLE_1_OF_N_EVAL_EXAMPLES = 1\n",
        "PIPELINE_FNAME = '/content/sys_oper/01_configfile/00_ssdM2.config'\n",
        "MODEL_DIR = '/content/mount/My\\ Drive/00_work/ssd_ysl_ssdM2_sysoper'\n",
        "import os\n",
        "os.environ['PYTHONPATH'] = '/env/python:/content/sys_oper/00_src/research/:/content/sys_oper/00_src/research/slim/'\n",
        "\n",
        "!python /content/sys_oper/00_src/research/object_detection/model_main.py \\\n",
        "    --pipeline_config_path={PIPELINE_FNAME} \\\n",
        "    --model_dir={MODEL_DIR} \\\n",
        "    --num_train_steps={NUM_TRAIN_STEPS} \\\n",
        "    --sample_1_of_n_eval_examples={SAMPLE_1_OF_N_EVAL_EXAMPLES} \\\n",
        "    --alsologtostderr"
      ],
      "execution_count": 0,
      "outputs": []
    },
    {
      "cell_type": "code",
      "metadata": {
        "id": "9DAZa2xXlla8",
        "colab_type": "code",
        "colab": {}
      },
      "source": [
        "!nvcc -v "
      ],
      "execution_count": 0,
      "outputs": []
    },
    {
      "cell_type": "markdown",
      "metadata": {
        "id": "446x5Co2ay4g",
        "colab_type": "text"
      },
      "source": [
        ""
      ]
    },
    {
      "cell_type": "markdown",
      "metadata": {
        "id": "hudMtvUa1Wt4",
        "colab_type": "text"
      },
      "source": [
        "## Export"
      ]
    },
    {
      "cell_type": "markdown",
      "metadata": {
        "id": "uJ363laVmkAt",
        "colab_type": "text"
      },
      "source": [
        "# make pb file"
      ]
    },
    {
      "cell_type": "code",
      "metadata": {
        "id": "vLZuE5P6mYDv",
        "colab_type": "code",
        "colab": {}
      },
      "source": [
        "CONFIG_FILE='/content/mount/My\\ Drive/00_work/00_src_models/research/01_configfile/rcnn_david_ssdMv2_fpnlite300RgbFigColab.config'\n",
        "EXPORT_OUTPUT_DIR='/content/mount/My\\ Drive/00_work/ssdM2Fpn300_err/tflite'\n",
        "CHECKPOINT_PATH='/content/mount/My\\ Drive/00_work/ssdM2Fpn300_err/model.ckpt-48950'\n",
        "!python object_detection/export_tflite_ssd_graph.py \\\n",
        "--pipeline_config_path=$CONFIG_FILE \\\n",
        "--trained_checkpoint_prefix=$CHECKPOINT_PATH \\\n",
        "--output_directory=$EXPORT_OUTPUT_DIR \\\n",
        "--add_postprocessing_op=true"
      ],
      "execution_count": 0,
      "outputs": []
    },
    {
      "cell_type": "markdown",
      "metadata": {
        "id": "GI-etnP8muxZ",
        "colab_type": "text"
      },
      "source": [
        "#make tflite file"
      ]
    },
    {
      "cell_type": "code",
      "metadata": {
        "id": "M0Dv06H3misk",
        "colab_type": "code",
        "colab": {}
      },
      "source": [
        "PATH_TO_MODEL='/content/mount/My\\ Drive/00_work/ssdM2Fpn300_err/tflite'\n",
        "!tflite_convert    \\\n",
        " --graph_def_file={PATH_TO_MODEL}/tflite_graph.pb \\\n",
        " --output_file={PATH_TO_MODEL}/detectfpn300.tflite \\\n",
        " --input_shapes=1,300,300,3 \\\n",
        " --output_format=TFLITE \\\n",
        " --input_arrays=normalized_input_image_tensor \\\n",
        " --output_arrays='TFLite_Detection_PostProcess','TFLite_Detection_PostProcess:1','TFLite_Detection_PostProcess:2','TFLite_Detection_PostProcess:3' \\\n",
        " --inference_type=FLOAT \\\n",
        " --mean_values=128 \\\n",
        " --std_dev_values=128 \\\n",
        " --change_concat_input_ranges=false \\\n",
        " --allow_custom_ops"
      ],
      "execution_count": 0,
      "outputs": []
    },
    {
      "cell_type": "code",
      "metadata": {
        "id": "WdWWajjttWo-",
        "colab_type": "code",
        "colab": {}
      },
      "source": [
        "import numpy as np\n",
        "import shutil"
      ],
      "execution_count": 0,
      "outputs": []
    },
    {
      "cell_type": "code",
      "metadata": {
        "id": "HRnBGrVJ1qC7",
        "colab_type": "code",
        "colab": {}
      },
      "source": [
        "output_directory = './fine_tuned_model'\n",
        "\n",
        "if os.path.exists(output_directory):\n",
        "    shutil.rmtree(output_directory)\n",
        "    \n",
        "lst = os.listdir(MODEL_DIR)\n",
        "lst = [l for l in lst if 'model.ckpt-' in l and '.meta' in l]\n",
        "steps = np.array([int(re.findall('\\d+',l)[0]) for l in lst])\n",
        "last_model = lst[steps.argmax()].replace('.meta', '')\n",
        "last_model_path = os.path.join(MODEL_DIR, last_model)\n",
        "print(last_model_path)\n",
        "\n",
        "!python /content/Finetune_SSD_MobileNetV2/models/research/object_detection/export_inference_graph.py \\\n",
        "    --input_type=image_tensor \\\n",
        "    --pipeline_config_path={pipeline_fname} \\\n",
        "    --output_directory={output_directory} \\\n",
        "    --trained_checkpoint_prefix={last_model_path}"
      ],
      "execution_count": 0,
      "outputs": []
    },
    {
      "cell_type": "markdown",
      "metadata": {
        "id": "pou9mUiw4N_R",
        "colab_type": "text"
      },
      "source": [
        ""
      ]
    },
    {
      "cell_type": "code",
      "metadata": {
        "id": "YFMVh4Bb12uX",
        "colab_type": "code",
        "outputId": "9310b098-a809-42aa-e10a-b8bcab7e637d",
        "colab": {
          "base_uri": "https://localhost:8080/",
          "height": 35
        }
      },
      "source": [
        "log = os.listdir(MODEL_DIR)\n",
        "log = [l for l in log if 'events.out.tfevents.' in l]\n",
        "\n",
        "for item in log:\n",
        "    print(output_directory)\n",
        "    shutil.copy(os.path.join(MODEL_DIR, item), output_directory)"
      ],
      "execution_count": 0,
      "outputs": [
        {
          "output_type": "stream",
          "text": [
            "./fine_tuned_model\n"
          ],
          "name": "stdout"
        }
      ]
    },
    {
      "cell_type": "code",
      "metadata": {
        "id": "kvCXMwjG5Mg1",
        "colab_type": "code",
        "outputId": "df0e66cf-5035-4408-b3b5-fb483f9dc0b5",
        "colab": {
          "base_uri": "https://localhost:8080/",
          "height": 199
        }
      },
      "source": [
        "DRIVE_WORKSPACE = '/content/mount/My\\ Drive/DogCatDetection'\n",
        "LATEST_CHECKPOINT = '/content/mount/My\\ Drive/DogCatDetection/last_checkpoint'\n",
        "FOLDER_CHECKPOINT = '/content/mount/My\\ Drive/DogCatDetection/'+'train_' # setting number here\n",
        "# Function to back up all checkpoint: Folder train + number\n",
        "arr = []\n",
        "!ls {DRIVE_WORKSPACE}\n",
        "arr = !ls {DRIVE_WORKSPACE}\n",
        "swap = []\n",
        "\n",
        "def getFolder(arr):\n",
        "    idx = []\n",
        "    for elem in arr:\n",
        "        if elem[:5] == 'train':\n",
        "            idx.append(int(elem[6:]))\n",
        "    return idx\n",
        "\n",
        "if len(arr) == 0: \n",
        "    FOLDER_CHECKPOINT = FOLDER_CHECKPOINT + '{}'.format(1) # create 1st train directory\n",
        "    !cp -a {output_directory}/. {FOLDER_CHECKPOINT} # copy output directory to drive\n",
        "else:\n",
        "    for small_arr in arr:\n",
        "        for elem in small_arr.split():\n",
        "            swap.append(elem)\n",
        "    arr = swap\n",
        "\n",
        "    idx = getFolder(arr)\n",
        "    print(idx)   \n",
        "    print('Last trained folder: {}'.format(max(idx)))\n",
        "    FOLDER_CHECKPOINT = FOLDER_CHECKPOINT + '{}'.format(int(max(idx))+1) # create new train directory\n",
        "    !cp -a {output_directory}/. {FOLDER_CHECKPOINT} # copy output directory to drive\n",
        "\n",
        "arr = []\n",
        "arr = !ls {DRIVE_WORKSPACE}\n",
        "swap = []\n",
        "\n",
        "for small_arr in arr:\n",
        "    for elem in small_arr.split():\n",
        "        swap.append(elem)\n",
        "arr = swap\n",
        "idx = getFolder(arr)\n",
        "print(idx) \n",
        "print('Number of trained folder: {}'.format(len(idx)))\n",
        "print('New trained folder: {}'.format(max(idx)))\n",
        "\n",
        "!ls {DRIVE_WORKSPACE}"
      ],
      "execution_count": 0,
      "outputs": [
        {
          "output_type": "stream",
          "text": [
            "label_map\t test_img  train_10  train_2  train_4  train_6\ttrain_8\n",
            "last_checkpoint  train_1   train_11  train_3  train_5  train_7\ttrain_9\n",
            "[10, 2, 4, 6, 8, 1, 11, 3, 5, 7, 9]\n",
            "Last trained folder: 11\n",
            "[1, 12, 4, 7, 10, 2, 5, 8, 11, 3, 6, 9]\n",
            "Number of trained folder: 12\n",
            "New trained folder: 12\n",
            "label_map\t train_1   train_12  train_4  train_7\n",
            "last_checkpoint  train_10  train_2   train_5  train_8\n",
            "test_img\t train_11  train_3   train_6  train_9\n"
          ],
          "name": "stdout"
        }
      ]
    },
    {
      "cell_type": "code",
      "metadata": {
        "id": "dGanRe7-5ewV",
        "colab_type": "code",
        "colab": {}
      },
      "source": [
        "!test -e {LATEST_CHECKPOINT} && rm -rf {LATEST_CHECKPOINT} || echo LATEST_CHECKPOINT not found && mkdir {LATEST_CHECKPOINT} # create new ckpt\n",
        "!cd {DRIVE_WORKSPACE} && ls \n",
        "!cp -a {output_directory}/. {LATEST_CHECKPOINT}\n",
        "!cd {LATEST_CHECKPOINT} && ls "
      ],
      "execution_count": 0,
      "outputs": []
    },
    {
      "cell_type": "markdown",
      "metadata": {
        "id": "6QnKeImvKq9H",
        "colab_type": "text"
      },
      "source": [
        "## Inference"
      ]
    },
    {
      "cell_type": "markdown",
      "metadata": {
        "id": "F-WnHS_Twx1f",
        "colab_type": "text"
      },
      "source": [
        "# 新しいセクション"
      ]
    },
    {
      "cell_type": "code",
      "metadata": {
        "id": "dh9An6nz6AB4",
        "colab_type": "code",
        "colab": {}
      },
      "source": [
        "import tensorflow as tf\n",
        "from object_detection.utils import label_map_util\n",
        "from object_detection.utils import visualization_utils as vis_util\n",
        "from PIL import Image\n",
        "from matplotlib import pyplot as plt\n",
        "import numpy as np\n",
        "import glob\n",
        "\n",
        "%matplotlib inline"
      ],
      "execution_count": 0,
      "outputs": []
    },
    {
      "cell_type": "code",
      "metadata": {
        "id": "daxkl3PXzvkx",
        "colab_type": "code",
        "colab": {}
      },
      "source": [
        "!mkdir 'modelInference'\n",
        "%cd 'modelInference'\n",
        "!mkdir 'test_images' && cd 'test_images' && pwd\n",
        "!cd 'test_images' && wget 'https://www.petmd.com/sites/default/files/Acute-Dog-Diarrhea-47066074.jpg'\n",
        "!cd 'test_images' && wget 'https://cdn-images-1.medium.com/max/1600/1*mONNI1lG9VuiqovpnYqicA.jpeg'\n",
        "!cd 'test_images' && wget 'https://www.lifewithdogs.tv/wp-content/uploads/2015/01/gfhdgfgfgdfgdf.jpg'"
      ],
      "execution_count": 0,
      "outputs": []
    },
    {
      "cell_type": "code",
      "metadata": {
        "id": "hf87W3WW0_Xw",
        "colab_type": "code",
        "outputId": "96fe83ff-ddb7-4908-a447-40935d274491",
        "colab": {
          "base_uri": "https://localhost:8080/",
          "height": 54
        }
      },
      "source": [
        "!cp {LATEST_CHECKPOINT}/frozen_inference_graph.pb ./\n",
        "!cp {PATH_TO_LABELS} ./\n",
        "!ls"
      ],
      "execution_count": 0,
      "outputs": [
        {
          "output_type": "stream",
          "text": [
            "cp: '/content/Finetune_SSD_MobileNetV2/models/research/modelInference/pet_label_map.pbtxt' and './pet_label_map.pbtxt' are the same file\n",
            "frozen_inference_graph.pb  pet_label_map.pbtxt\ttest_images\n"
          ],
          "name": "stdout"
        }
      ]
    },
    {
      "cell_type": "code",
      "metadata": {
        "id": "2OZn0azu1Vgu",
        "colab_type": "code",
        "outputId": "3284af28-3177-4af6-81e9-133d28415da7",
        "colab": {
          "base_uri": "https://localhost:8080/",
          "height": 54
        }
      },
      "source": [
        "PATH_TO_FROZEN_GRAPH = os.path.join(os.path.abspath('/content/Finetune_SSD_MobileNetV2/models/research/modelInference'), \"frozen_inference_graph.pb\")\n",
        "assert os.path.isfile(PATH_TO_FROZEN_GRAPH), '`{}` not exist'.format(PATH_TO_FROZEN_GRAPH)\n",
        "print(PATH_TO_FROZEN_GRAPH)\n",
        "\n",
        "PATH_TO_LABELS = os.path.join(os.path.abspath('/content/Finetune_SSD_MobileNetV2/models/research/modelInference'), \"pet_label_map.pbtxt\")\n",
        "assert os.path.isfile(PATH_TO_LABELS), '`{}` not exist'.format(PATH_TO_LABELS)\n",
        "print(PATH_TO_LABELS)"
      ],
      "execution_count": 0,
      "outputs": [
        {
          "output_type": "stream",
          "text": [
            "/content/Finetune_SSD_MobileNetV2/models/research/modelInference/frozen_inference_graph.pb\n",
            "/content/Finetune_SSD_MobileNetV2/models/research/modelInference/pet_label_map.pbtxt\n"
          ],
          "name": "stdout"
        }
      ]
    },
    {
      "cell_type": "code",
      "metadata": {
        "id": "W50OvkmL2QXp",
        "colab_type": "code",
        "outputId": "3ad66a86-7678-41a7-e553-ccc0bd1032e8",
        "colab": {
          "base_uri": "https://localhost:8080/",
          "height": 72
        }
      },
      "source": [
        "PATH_TO_TEST_IMAGES_DIR = '/content/Finetune_SSD_MobileNetV2/models/research/modelInference/test_images'\n",
        "assert os.path.isfile(PATH_TO_LABELS)\n",
        "TEST_IMAGE_PATHS = glob.glob(os.path.join(PATH_TO_TEST_IMAGES_DIR, \"*.*\"))\n",
        "TEST_IMAGE_PATHS"
      ],
      "execution_count": 0,
      "outputs": [
        {
          "output_type": "execute_result",
          "data": {
            "text/plain": [
              "['/content/Finetune_SSD_MobileNetV2/models/research/modelInference/test_images/Acute-Dog-Diarrhea-47066074.jpg',\n",
              " '/content/Finetune_SSD_MobileNetV2/models/research/modelInference/test_images/1*mONNI1lG9VuiqovpnYqicA.jpeg',\n",
              " '/content/Finetune_SSD_MobileNetV2/models/research/modelInference/test_images/gfhdgfgfgdfgdf.jpg']"
            ]
          },
          "metadata": {
            "tags": []
          },
          "execution_count": 114
        }
      ]
    },
    {
      "cell_type": "code",
      "metadata": {
        "id": "DIGK4qn01srX",
        "colab_type": "code",
        "colab": {}
      },
      "source": [
        "detection_graph = tf.Graph()\n",
        "with detection_graph.as_default():\n",
        "    od_graph_def = tf.GraphDef()\n",
        "    with tf.gfile.GFile(PATH_TO_FROZEN_GRAPH, 'rb') as fid:\n",
        "        serialized_graph = fid.read()\n",
        "        od_graph_def.ParseFromString(serialized_graph)\n",
        "        tf.import_graph_def(od_graph_def, name='')\n",
        "        \n",
        "label_map = label_map_util.load_labelmap(PATH_TO_LABELS)"
      ],
      "execution_count": 0,
      "outputs": []
    },
    {
      "cell_type": "code",
      "metadata": {
        "id": "aubCZ1UQ1_Z3",
        "colab_type": "code",
        "outputId": "2d59897d-bbdd-4c9c-fd56-233939394911",
        "colab": {
          "base_uri": "https://localhost:8080/",
          "height": 35
        }
      },
      "source": [
        "num_classes = get_num_classes(PATH_TO_LABELS)\n",
        "num_classes"
      ],
      "execution_count": 0,
      "outputs": [
        {
          "output_type": "execute_result",
          "data": {
            "text/plain": [
              "39"
            ]
          },
          "metadata": {
            "tags": []
          },
          "execution_count": 116
        }
      ]
    },
    {
      "cell_type": "code",
      "metadata": {
        "id": "oKc8-gXm2E-X",
        "colab_type": "code",
        "colab": {}
      },
      "source": [
        "def load_image_into_numpy_array(image):\n",
        "    (im_width, im_height) = image.size\n",
        "    return np.array(image.getdata()).reshape((im_height, im_width, 3)).astype(np.uint8)\n",
        "\n",
        "categories = label_map_util.convert_label_map_to_categories(label_map, max_num_classes=num_classes, use_display_name=True)\n",
        "category_index = label_map_util.create_category_index(categories)"
      ],
      "execution_count": 0,
      "outputs": []
    },
    {
      "cell_type": "code",
      "metadata": {
        "id": "KcDAxLQ-2Ik3",
        "colab_type": "code",
        "colab": {}
      },
      "source": [
        "# Size, in inches, of the output images.\n",
        "IMAGE_SIZE = (12, 8)\n",
        "\n",
        "def run_inference_for_single_image(image, graph):\n",
        "    with graph.as_default():\n",
        "        with tf.Session() as sess:\n",
        "            # Get handles to input and output tensors\n",
        "            ops = tf.get_default_graph().get_operations()\n",
        "            all_tensor_names = {\n",
        "                output.name for op in ops for output in op.outputs}\n",
        "            tensor_dict = {}\n",
        "            for key in [\n",
        "                'num_detections', 'detection_boxes', 'detection_scores',\n",
        "                'detection_classes', 'detection_masks'\n",
        "            ]:\n",
        "                tensor_name = key + ':0'\n",
        "                if tensor_name in all_tensor_names:\n",
        "                    tensor_dict[key] = tf.get_default_graph().get_tensor_by_name(\n",
        "                        tensor_name)\n",
        "            if 'detection_masks' in tensor_dict:\n",
        "                # The following processing is only for single image\n",
        "                detection_boxes = tf.squeeze(\n",
        "                    tensor_dict['detection_boxes'], [0])\n",
        "                detection_masks = tf.squeeze(\n",
        "                    tensor_dict['detection_masks'], [0])\n",
        "                # Reframe is required to translate mask from box coordinates to image coordinates and fit the image size.\n",
        "                real_num_detection = tf.cast(\n",
        "                    tensor_dict['num_detections'][0], tf.int32)\n",
        "                detection_boxes = tf.slice(detection_boxes, [0, 0], [\n",
        "                                           real_num_detection, -1])\n",
        "                detection_masks = tf.slice(detection_masks, [0, 0, 0], [\n",
        "                                           real_num_detection, -1, -1])\n",
        "                detection_masks_reframed = utils_ops.reframe_box_masks_to_image_masks(\n",
        "                    detection_masks, detection_boxes, image.shape[0], image.shape[1])\n",
        "                detection_masks_reframed = tf.cast(\n",
        "                    tf.greater(detection_masks_reframed, 0.5), tf.uint8)\n",
        "                # Follow the convention by adding back the batch dimension\n",
        "                tensor_dict['detection_masks'] = tf.expand_dims(\n",
        "                    detection_masks_reframed, 0)\n",
        "            image_tensor = tf.get_default_graph().get_tensor_by_name('image_tensor:0')\n",
        "\n",
        "            # Run inference\n",
        "            output_dict = sess.run(tensor_dict,\n",
        "                                   feed_dict={image_tensor: np.expand_dims(image, 0)})\n",
        "\n",
        "            # all outputs are float32 numpy arrays, so convert types as appropriate\n",
        "            output_dict['num_detections'] = int(\n",
        "                output_dict['num_detections'][0])\n",
        "            output_dict['detection_classes'] = output_dict[\n",
        "                'detection_classes'][0].astype(np.uint8)\n",
        "            output_dict['detection_boxes'] = output_dict['detection_boxes'][0]\n",
        "            output_dict['detection_scores'] = output_dict['detection_scores'][0]\n",
        "            if 'detection_masks' in output_dict:\n",
        "                output_dict['detection_masks'] = output_dict['detection_masks'][0]\n",
        "    return output_dict\n",
        "\n",
        "\n",
        "for image_path in TEST_IMAGE_PATHS:\n",
        "    image = Image.open(image_path)\n",
        "    # the array based representation of the image will be used later in order to prepare the\n",
        "    # result image with boxes and labels on it.\n",
        "    image_np = load_image_into_numpy_array(image)\n",
        "    # Expand dimensions since the model expects images to have shape: [1, None, None, 3]\n",
        "    image_np_expanded = np.expand_dims(image_np, axis=0)\n",
        "    # Actual detection.\n",
        "    output_dict = run_inference_for_single_image(image_np, detection_graph)\n",
        "    print(image_path)\n",
        "    print(output_dict['detection_classes'][:5])\n",
        "    print(output_dict['detection_scores'][:5])\n",
        "    # Visualization of the results of a detection.\n",
        "    vis_util.visualize_boxes_and_labels_on_image_array(\n",
        "        image_np,\n",
        "        output_dict['detection_boxes'],\n",
        "        output_dict['detection_classes'],\n",
        "        output_dict['detection_scores'],\n",
        "        category_index,\n",
        "        instance_masks=output_dict.get('detection_masks'),\n",
        "        use_normalized_coordinates=True,\n",
        "        line_thickness=8)\n",
        "    plt.figure(figsize=IMAGE_SIZE)\n",
        "    plt.imshow(image_np)"
      ],
      "execution_count": 0,
      "outputs": []
    },
    {
      "cell_type": "code",
      "metadata": {
        "id": "Z8xVdsEW2Yy4",
        "colab_type": "code",
        "colab": {}
      },
      "source": [
        ""
      ],
      "execution_count": 0,
      "outputs": []
    }
  ]
}